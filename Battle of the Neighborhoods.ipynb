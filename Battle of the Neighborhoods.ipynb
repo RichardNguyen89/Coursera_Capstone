{
 "cells": [
  {
   "cell_type": "markdown",
   "metadata": {},
   "source": [
    "### This notebook is an implementation of the IBM Data Science Certificate Capstone project.\n",
    "### Author: Linh Nguyen\n",
    "### Version: 0.0.1\n",
    "# Battle of the Neighborhoods"
   ]
  },
  {
   "cell_type": "markdown",
   "metadata": {},
   "source": [
    "# *INTRODUCTION*\n",
    "\n",
    "## PROJECT MOTIVATION\n",
    "\n",
    "As of 07/28/2020, the U.S. has 4.2 millions confirmed cases of COVID-19. New York City is the at the epicenter of the battle against the pandemics with more than 221,000 cases confirmed and approximately 56,000 cases of hospitalization.\n",
    "\n",
    "This project aims to analyze the hospital bed density and the COVID-19 case rate for each neighborhood in the New York City. The hospital bed density is measured as the number of beds per 1,000 people. It can be considered as one of the measurement of the service availbility. When pitted against the COVID-19 case rate, it can provide a better picture of the pandemic.\n",
    "\n",
    "This project is also motivated by [lisu1222: The battle of the neighborhoods: hospital density](https://github.com/lisu1222/The-Battle-of-Neighborhoods-New-York-Hospital-Bed-Density)"
   ]
  },
  {
   "cell_type": "markdown",
   "metadata": {},
   "source": [
    "# Data\n",
    "\n",
    "NYC Neighborhood Data is a json file dowloaded from [New York City Neighborhoods Names](https://geo.nyu.edu/catalog/nyu_2451_34572). It includes latitude and longitude for each neighborhood of the 5 boroughs in NYC.\n",
    "\n",
    "NYC Population Data includes population data per neighborhood that were scrapped from Wikipedia, and then integrated with New York Neighborhood Data.\n",
    "\n",
    "Hospital Data is scrapped from New York State Department of Health. It contains the name, bed type and the corresponding bed numbers in each type. \n",
    "\n",
    "NYC COVID 19 case rate data is taken from [NYC health](https://www1.nyc.gov/site/doh/covid/covid-19-data.page). The data set contains case count, case rates, death rate and so on. These rate are calculated per 100,000 and thus will need to be processed.\n",
    "\n",
    "These data sets will be processed, explored and integrated for further analysis."
   ]
  },
  {
   "cell_type": "code",
   "execution_count": null,
   "metadata": {},
   "outputs": [],
   "source": []
  }
 ],
 "metadata": {
  "kernelspec": {
   "display_name": "Python 3",
   "language": "python",
   "name": "python3"
  },
  "language_info": {
   "codemirror_mode": {
    "name": "ipython",
    "version": 3
   },
   "file_extension": ".py",
   "mimetype": "text/x-python",
   "name": "python",
   "nbconvert_exporter": "python",
   "pygments_lexer": "ipython3",
   "version": "3.8.2"
  }
 },
 "nbformat": 4,
 "nbformat_minor": 2
}
