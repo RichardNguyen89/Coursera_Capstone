{
 "cells": [
  {
   "cell_type": "markdown",
   "metadata": {},
   "source": [
    "### This notebook is an implementation of the IBM Data Science Certificate Capstone project.\n",
    "### Author: Linh Nguyen\n",
    "\n",
    "# Battle of the Neighborhoods"
   ]
  },
  {
   "cell_type": "markdown",
   "metadata": {},
   "source": [
    "# **INTRODUCTION**\n",
    "\n",
    "## PROJECT MOTIVATION\n",
    "\n",
    "As of 07/28/2020, the U.S. has 4.2 millions confirmed cases of COVID-19. New York City is the at the epicenter of the battle against the pandemics with more than 221,000 cases confirmed and approximately 56,000 cases of hospitalization.\n",
    "\n",
    "This project aims to analyze the hospital bed density and the COVID-19 case rate for each neighborhood in the New York City. The hospital bed density is measured as the number of beds per 1,000 people. It can be considered as one of the measurement of the service availbility. When pitted against the COVID-19 case rate, it can provide a better picture of the pandemic.\n",
    "\n",
    "This project is also motivated by [lisu1222: The battle of the neighborhoods: hospital density](https://github.com/lisu1222/The-Battle-of-Neighborhoods-New-York-Hospital-Bed-Density)\n",
    "\n",
    "and [ruddra: capstone project](https://github.com/ruddra/project-capstone-nyc-fights-pandemic)"
   ]
  },
  {
   "cell_type": "markdown",
   "metadata": {},
   "source": [
    "# Data\n",
    "\n",
    "NYC Neighborhood Data is a json file dowloaded from [New York City Neighborhoods Names](https://geo.nyu.edu/catalog/nyu_2451_34572). It includes latitude and longitude for each neighborhood of the 5 boroughs in NYC.\n",
    "\n",
    "NYC Population Data includes population data per neighborhood that were scrapped from Wikipedia, and then integrated with New York Neighborhood Data.\n",
    "\n",
    "Hospital Data is scrapped from New York State Department of Health. It contains the name, bed type and the corresponding bed numbers in each type. \n",
    "\n",
    "NYC COVID 19 case rate data is taken from [NYC health](https://www1.nyc.gov/site/doh/covid/covid-19-data.page). The data set contains case count, case rates, death rate and so on. These rate are calculated per 100,000 and thus will need to be processed.\n",
    "\n",
    "These data sets will be processed, explored and integrated for further analysis."
   ]
  },
  {
   "cell_type": "markdown",
   "metadata": {},
   "source": [
    "# **METHOD**"
   ]
  },
  {
   "cell_type": "markdown",
   "metadata": {},
   "source": [
    "## 1. NYC Neighborhood and Population Data"
   ]
  },
  {
   "cell_type": "markdown",
   "metadata": {},
   "source": [
    "The data contained in [New York City Neighborhoods Names](https://geo.nyu.edu/catalog/nyu_2451_34572) is in a json file. The latitude and longitude for each neighborhood of the 5 boroughs in NYC is extracted and saved into a dataframe. \n",
    "Beauty Soup was used to scrapped the wiki pages of each neighborhood to find the population data. \n",
    "These 2 datasets are then combined together as follow:\n",
    "<img src=\"Picture output/nyc_neighborhood.png\" width=\"800\" height=\"400\" />"
   ]
  },
  {
   "cell_type": "markdown",
   "metadata": {},
   "source": [
    "## 2. Hospital Data"
   ]
  },
  {
   "cell_type": "markdown",
   "metadata": {},
   "source": [
    "I used Foursquare API to explore the information of the hospital in each neighborhood, including name of the hospital, neighborhood, borough, longitude and latitude.\\\n",
    "With ID of each hospital, I then used Beauty Soup to scrap the New York State Department of Health websites to obtain information on the name of the hospital, bed type and the corresponding bed numbers in each type.\\ \n",
    "The package fuzzywuzzy was then used to match the information of the hospital in the dataset 1 and the dataset 2 on the name of the hospital.\\\n",
    "After processed, this dataset is merged with the neighborhood and population data set. Then the ICU bed per Hundred people and bed per hundred people were added.\n",
    "<img src=\"Picture output/hospital data with icu rate.png\" width=\"800\" height=\"400\" />"
   ]
  },
  {
   "cell_type": "markdown",
   "metadata": {},
   "source": [
    "## 3. Covid case rate Data"
   ]
  },
  {
   "cell_type": "markdown",
   "metadata": {},
   "source": [
    "NYC COVID 19 case rate data is taken from [NYC health](https://www1.nyc.gov/site/doh/covid/covid-19-data.page). The data set contains case count, case rates, death rate and so on. \n",
    "\n",
    "<img src=\"Picture output/covid case rate data.png\" width=\"800\" height=\"400\" />"
   ]
  },
  {
   "cell_type": "markdown",
   "metadata": {},
   "source": [
    "I decided to limit the relevant information to the case rates only.\\\n",
    "This dataset is then integrated into the hospital data set to obtain the nyc final data set by matching on the neighborhood variable.\\\n",
    "(At this stage, I applied a rather greedy matching process which result in duplicated data. This will be discussed as a limitation of the project)\n",
    "<img src=\"Picture output/nyc_final.png\" width=\"800\" height=\"400\" />"
   ]
  },
  {
   "cell_type": "markdown",
   "metadata": {},
   "source": [
    "## 4. Neighborhood Clustering Analysis\n",
    "We will use K-means to cluster NYC neighborhoods.\n",
    "\n",
    "First we select features for clustering: ICU Bed Per Hundred People and Bed Per Hundred People and COVID_CASE_RATE (per hundred). Data such as Population is already included in other variables and thus, I chose to leave it out.\n",
    "We then normalize the data since K-Means algorithm requires standardized dataset to calculate distances.\n",
    "\n",
    "Then we use elbow method to find the optimum number of clusters and the output optimum number of k is 7.\n",
    "<img src=\"Picture output/elbow method.png\" width=\"800\" height=\"400\" />"
   ]
  },
  {
   "cell_type": "markdown",
   "metadata": {},
   "source": [
    "**Examine clusters**"
   ]
  },
  {
   "cell_type": "markdown",
   "metadata": {},
   "source": [
    "<img src=\"Picture output/cluster_0.png\" width=\"800\" height=\"400\" />"
   ]
  },
  {
   "cell_type": "markdown",
   "metadata": {},
   "source": [
    "<img src=\"Picture output/cluster_1.png\" width=\"800\" height=\"400\" />"
   ]
  },
  {
   "cell_type": "markdown",
   "metadata": {},
   "source": [
    "<img src=\"Picture output/cluster_2.png\" width=\"800\" height=\"400\" />"
   ]
  },
  {
   "cell_type": "markdown",
   "metadata": {},
   "source": [
    "<img src=\"Picture output/cluster_3.png\" width=\"800\" height=\"400\" />"
   ]
  },
  {
   "cell_type": "markdown",
   "metadata": {},
   "source": [
    "<img src=\"Picture output/cluster_4.png\" width=\"800\" height=\"400\" />"
   ]
  },
  {
   "cell_type": "markdown",
   "metadata": {},
   "source": [
    "<img src=\"Picture output/cluster_5.png\" width=\"800\" height=\"400\" />"
   ]
  },
  {
   "cell_type": "markdown",
   "metadata": {},
   "source": [
    "<img src=\"Picture output/cluster_6.png\" width=\"800\" height=\"400\" />"
   ]
  },
  {
   "cell_type": "markdown",
   "metadata": {},
   "source": [
    "**Visualization of clusters**"
   ]
  },
  {
   "cell_type": "markdown",
   "metadata": {},
   "source": [
    "Finally, I visualized the clusters on the New York map with the radius corresponding to the Covid_case_rate of each neighborhood.\n",
    "<img src=\"Picture output/visualization map.png\" width=\"800\" height=\"400\" />"
   ]
  },
  {
   "cell_type": "markdown",
   "metadata": {},
   "source": [
    "# Discussion"
   ]
  },
  {
   "cell_type": "markdown",
   "metadata": {},
   "source": [
    "Looking into the results, we find that the algorithm classifies the neighborhoods into 7 clusters with extensive logics as follow:\n",
    "\n",
    "|   | ICU  | Bed  |  COVID rate  |\n",
    "|---|---|---|---|\n",
    "|  1 | low  |  low | low  |\n",
    "|  2 |  high | high  | low   |\n",
    "|  3 | low  | medium  | medium  |\n",
    "|  4 |  low | high  | low  |\n",
    "|  5 | low  | high  | high  |\n",
    "|  6 |  low  | low  | high  |\n",
    "|  7 |  low | high  | medium  |"
   ]
  },
  {
   "cell_type": "markdown",
   "metadata": {},
   "source": [
    "However, even though the rate of group 1 is low, the rate of beds over the rate of cases (less than 1 in most cases) may indicate that group 1 can not meet the demand at some points. Thus, group 2, group 4 and group 7 may provide better service availability. Among them, group 2, Murray Hill of Manhattan has the highest availability. "
   ]
  },
  {
   "cell_type": "markdown",
   "metadata": {},
   "source": [
    "*Limitations*"
   ]
  },
  {
   "cell_type": "markdown",
   "metadata": {},
   "source": [
    "- The hospital beds data we collected from New York State Department of Health may not include the latest information.\n",
    "\n",
    "- The NYC population data we collected from Wikipedia pages are from 2010, that is not very accurate.\n",
    "\n",
    "- The COVID dataset initially contains an extensive neighborhood data. During the process, I essentially reduced this information to match with the neighborhood data from the hospital dataset using a strict approach. Some data was lost at this point. If there is a way to preserve this data, we can conduct a more extensive clustering experiment.\n",
    "\n",
    "- In this project, I used K-mean clustering. The result was reasonable. However, there can be other methods to cluster the dataset that worth trying."
   ]
  },
  {
   "cell_type": "markdown",
   "metadata": {},
   "source": [
    "# Conclusion\n",
    "\n",
    "This project aims at clustering the neighborhood in New York city based on the data of the ICU and hospital beds and COVID rate case of the neighborhoods. To do so, collecting, cleaning, transforming and processing the data was necessary. In the end, we identify 7 clusters of neighborhoods."
   ]
  }
 ],
 "metadata": {
  "kernelspec": {
   "display_name": "Python 3",
   "language": "python",
   "name": "python3"
  },
  "language_info": {
   "codemirror_mode": {
    "name": "ipython",
    "version": 3
   },
   "file_extension": ".py",
   "mimetype": "text/x-python",
   "name": "python",
   "nbconvert_exporter": "python",
   "pygments_lexer": "ipython3",
   "version": "3.7.4"
  }
 },
 "nbformat": 4,
 "nbformat_minor": 2
}
